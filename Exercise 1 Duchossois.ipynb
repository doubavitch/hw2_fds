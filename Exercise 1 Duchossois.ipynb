{
 "cells": [
  {
   "cell_type": "code",
   "execution_count": 2,
   "metadata": {},
   "outputs": [
    {
     "name": "stdout",
     "output_type": "stream",
     "text": [
      "[ 5.02650893e-01  5.93546362e-01 -2.95967071e+00  3.50094918e-01\n",
      "  9.02998818e-01  9.43042824e-01 -1.18444700e+00 -1.56044582e-03\n",
      "  1.88201395e+00  1.30002294e-01  1.34529628e+00  1.66236138e-01\n",
      "  3.95463610e-01 -9.23324913e-01  7.01655346e-01  3.11330728e-01\n",
      " -1.22464418e+00 -1.31649485e+00 -2.14281862e+00 -1.25657801e+00\n",
      "  1.02003542e+00 -6.80993602e-01  3.77725360e-01 -6.76126850e-01\n",
      "  1.33456688e+00  1.99232627e+00 -1.76582939e+00  7.47075112e-02\n",
      "  5.89815417e-01  1.01658557e+00 -5.12994758e-01 -7.18726817e-01\n",
      "  2.98760616e-01  1.97530402e+00 -1.18817658e+00  7.87148613e-01\n",
      " -2.01505200e+00  8.89362361e-01  1.94595418e+00  9.49200915e-01\n",
      " -9.49761698e-01 -4.51088212e-01  1.14054681e+00 -3.13814945e-01\n",
      " -1.07407134e-01  1.42542722e+00 -2.25638081e+00  1.85209449e+00\n",
      "  9.43529127e-02 -3.46198318e-01 -1.02480546e-02 -1.02801685e+00\n",
      "  3.92273111e-01 -3.48104511e-02  9.58241494e-01  2.29864457e+00\n",
      "  4.11066780e-01  1.26074428e+00  1.64902043e-01  9.52297907e-01\n",
      "  5.90277328e-03  3.53031967e-01  1.98971947e+00  1.19534590e-01\n",
      " -4.10982157e-01  2.70057076e-01 -3.76412907e-01  8.95671429e-01\n",
      " -6.52623608e-01 -5.25470713e-01  1.80328603e+00  1.52647555e+00\n",
      " -5.34341377e-01 -2.94174864e-01 -1.04033982e+00 -8.64335267e-01\n",
      " -5.01760844e-01  7.68056396e-01 -1.02284824e+00 -1.54059277e-01\n",
      " -5.35846573e-01 -1.06117136e+00 -3.66473561e-01 -2.83860887e-02\n",
      "  6.77030162e-02  3.14559751e-01 -3.52614365e-01 -4.17444266e-01\n",
      " -8.30886980e-01 -4.62680288e-01 -5.73597245e-01 -1.25412759e+00\n",
      "  1.37423545e+00 -2.63041545e+00 -1.27059617e+00 -1.07610198e+00\n",
      " -4.44050160e-01  4.96239046e-02  8.96759704e-01 -9.17571547e-01]\n"
     ]
    }
   ],
   "source": [
    "import numpy as np\n",
    "import matplotlib.pyplot as plt\n",
    "from scipy.stats import norm, gaussian_kde\n",
    "\n",
    "# Step 1: Draw one realization of n = 100 independent random variables X1,...,Xn from a standard Gaussian distribution N(0,1)\n",
    "\n",
    "n = 100\n",
    "X = np.random.randn(n)\n",
    "\n",
    "# (a) KDE with different bandwidth values using the rectangular (uniform) kernel\n",
    "\n",
    "\n",
    "\n",
    "\n",
    "\n",
    "\n"
   ]
  },
  {
   "cell_type": "code",
   "execution_count": null,
   "metadata": {},
   "outputs": [],
   "source": [
    "# Bandwidth values\n",
    "H = [10**(-5), 10**(-3), 10**(-1), 10]\n",
    "\n",
    "# Plot KDE for each bandwidth\n",
    "plt.figure(figsize=(12, 8))\n",
    "for i, h in enumerate(H):\n",
    "    # Calculate KDE\n",
    "    kde = gaussian_kde(X, bw_method=h)\n",
    "    x_vals = np.linspace(-5, 5, 1000)\n",
    "    y_vals = kde(x_vals)\n",
    "    \n",
    "    # Plot\n",
    "    plt.plot(x_vals, y_vals, label=f'h={h}')\n",
    "\n",
    "plt.title('KDE with Rectangular Kernel (Different Bandwidths)')\n",
    "plt.xlabel('X')\n",
    "plt.ylabel('Density')\n",
    "plt.legend()\n",
    "plt.show()"
   ]
  },
  {
   "cell_type": "code",
   "execution_count": null,
   "metadata": {},
   "outputs": [],
   "source": [
    "# (b) Repeat with n = 10,000\n",
    "n = 10000\n",
    "X = np.random.randn(n)\n",
    "\n",
    "plt.figure(figsize=(12, 8))\n",
    "for i, h in enumerate(H):\n",
    "    # Calculate KDE\n",
    "    kde = gaussian_kde(X, bw_method=h)\n",
    "    x_vals = np.linspace(-5, 5, 1000)\n",
    "    y_vals = kde(x_vals)\n",
    "    \n",
    "    # Plot\n",
    "    plt.plot(x_vals, y_vals, label=f'h={h}')\n",
    "\n",
    "plt.title('KDE with Rectangular Kernel (n=10,000)')\n",
    "plt.xlabel('X')\n",
    "plt.ylabel('Density')\n",
    "plt.legend()\n",
    "plt.show()"
   ]
  },
  {
   "cell_type": "code",
   "execution_count": null,
   "metadata": {},
   "outputs": [],
   "source": [
    "# (c) KDE with Gaussian kernel\n",
    "\n",
    "plt.figure(figsize=(12, 8))\n",
    "for i, h in enumerate(H):\n",
    "    # Calculate KDE using Gaussian kernel\n",
    "    kde = gaussian_kde(X, bw_method=h, kernel='gau')\n",
    "    x_vals = np.linspace(-5, 5, 1000)\n",
    "    y_vals = kde(x_vals)\n",
    "    \n",
    "    # Plot\n",
    "    plt.plot(x_vals, y_vals, label=f'h={h}')\n",
    "\n",
    "plt.title('KDE with Gaussian Kernel (n=10,000)')\n",
    "plt.xlabel('X')\n",
    "plt.ylabel('Density')\n",
    "plt.legend()\n",
    "plt.show()"
   ]
  }
 ],
 "metadata": {
  "kernelspec": {
   "display_name": "env",
   "language": "python",
   "name": "python3"
  },
  "language_info": {
   "codemirror_mode": {
    "name": "ipython",
    "version": 3
   },
   "file_extension": ".py",
   "mimetype": "text/x-python",
   "name": "python",
   "nbconvert_exporter": "python",
   "pygments_lexer": "ipython3",
   "version": "3.11.8"
  }
 },
 "nbformat": 4,
 "nbformat_minor": 2
}
